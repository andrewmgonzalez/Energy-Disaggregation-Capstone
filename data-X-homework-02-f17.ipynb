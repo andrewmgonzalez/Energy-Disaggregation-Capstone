{
 "cells": [
  {
   "cell_type": "markdown",
   "metadata": {},
   "source": [
    "![data-x](http://oi64.tinypic.com/o858n4.jpg)\n",
    "\n",
    "\n",
    "\n",
    "\n"
   ]
  },
  {
   "cell_type": "markdown",
   "metadata": {},
   "source": [
    "# Homework 02"
   ]
  },
  {
   "cell_type": "markdown",
   "metadata": {},
   "source": [
    "## Numpy Introduction\n",
    "\n",
    "\n",
    "__1a) Create two numpy arrays (a and b). a should be all integers between 10-19 (inclusive), and b should be ten evenly spaced numbers between 1-7. Print all the results below:__ \n",
    "\n",
    "\n",
    "i) Square all the elements in both arrays (element-wise)  \n",
    "ii)  Add both the squared arrays (e.g., [1,2] + [3,4] = [4,6])  \n",
    "iii)  Sum the elements with even indices of the added array.  \n",
    "iv)  Take the square root of the added array (element-wise square root)__\n"
   ]
  },
  {
   "cell_type": "code",
   "execution_count": 25,
   "metadata": {},
   "outputs": [
    {
     "name": "stdout",
     "output_type": "stream",
     "text": [
      "[100 121 144 169 196 225 256 289 324 361] [  1.           2.77777778   5.44444444   9.          13.44444444\n",
      "  18.77777778  25.          32.11111111  40.11111111  49.        ]\n",
      "[ 101.          123.77777778  149.44444444  178.          209.44444444\n",
      "  243.77777778  281.          321.11111111  364.11111111  410.        ]\n",
      "1105.0\n",
      "[ 10.04987562  11.12554618  12.22474721  13.34166406  14.47219556\n",
      "  15.61338457  16.76305461  17.91957341  19.08169571  20.24845673]\n"
     ]
    }
   ],
   "source": [
    "import numpy as np\n",
    "\n",
    "a = np.array(np.arange(10,20))\n",
    "b = np.array(np.linspace(1,7,10))\n",
    "\n",
    "a_2 = a**2\n",
    "b_2 = b**2\n",
    "ab2_sum = a_2 + b_2\n",
    "\n",
    "# i\n",
    "print(a_2, b_2)\n",
    "# ii\n",
    "print(ab2_sum)\n",
    "# iii\n",
    "print(np.sum(ab2_sum[::2]))\n",
    "# iv\n",
    "print(np.sqrt(ab2_sum))"
   ]
  },
  {
   "cell_type": "markdown",
   "metadata": {},
   "source": [
    "__1b) Append b to a, reshape the appended array so that it is a 5x4, 2d array and store the results in a variable called m. Print m.__\n"
   ]
  },
  {
   "cell_type": "code",
   "execution_count": 29,
   "metadata": {},
   "outputs": [
    {
     "data": {
      "text/plain": [
       "array([[ 10.        ,  11.        ,  12.        ,  13.        ],\n",
       "       [ 14.        ,  15.        ,  16.        ,  17.        ],\n",
       "       [ 18.        ,  19.        ,   1.        ,   1.66666667],\n",
       "       [  2.33333333,   3.        ,   3.66666667,   4.33333333],\n",
       "       [  5.        ,   5.66666667,   6.33333333,   7.        ]])"
      ]
     },
     "execution_count": 29,
     "metadata": {},
     "output_type": "execute_result"
    }
   ],
   "source": [
    "m = np.append(a,b).reshape(5,4)\n",
    "print(m)"
   ]
  },
  {
   "cell_type": "markdown",
   "metadata": {},
   "source": [
    "__1c) Extract the second and the third column of the m matrix. Store the resulting 5x2 matrix in a new variable called m2. Print m2.__\n"
   ]
  },
  {
   "cell_type": "code",
   "execution_count": 36,
   "metadata": {},
   "outputs": [
    {
     "name": "stdout",
     "output_type": "stream",
     "text": [
      "[[ 11.          12.        ]\n",
      " [ 15.          16.        ]\n",
      " [ 19.           1.        ]\n",
      " [  3.           3.66666667]\n",
      " [  5.66666667   6.33333333]]\n"
     ]
    }
   ],
   "source": [
    "m2 = m[:,1:3]\n",
    "print(m2)"
   ]
  },
  {
   "cell_type": "markdown",
   "metadata": {},
   "source": [
    "__1d) Take the dot product of m2 and m store the results in a matrix called m3. Print m3.\n",
    "Note that Dot product of two matrices A.B =A<sup>T</sup>B__"
   ]
  },
  {
   "cell_type": "code",
   "execution_count": 41,
   "metadata": {},
   "outputs": [
    {
     "name": "stdout",
     "output_type": "stream",
     "text": [
      "[[ 697.33333333  748.11111111  437.88888889  482.33333333]\n",
      " [ 402.22222222  437.88888889  454.55555556  489.88888889]]\n"
     ]
    }
   ],
   "source": [
    "m3 = np.dot(m2.T, m)\n",
    "print(m3)"
   ]
  },
  {
   "cell_type": "markdown",
   "metadata": {},
   "source": [
    "__1e) Round the m3 matrix to two decimal points. Store the result in place and print the new m3.__\n"
   ]
  },
  {
   "cell_type": "code",
   "execution_count": 48,
   "metadata": {},
   "outputs": [
    {
     "name": "stdout",
     "output_type": "stream",
     "text": [
      "[[ 697.33  748.11  437.89  482.33]\n",
      " [ 402.22  437.89  454.56  489.89]]\n"
     ]
    }
   ],
   "source": [
    "m3= np.round(m3,decimals=2)\n",
    "print(m3)"
   ]
  },
  {
   "cell_type": "markdown",
   "metadata": {},
   "source": [
    "__1f) Sort the m3 array so that the highest value is at the top left, the next highest value to the right of the highest, and the lowest value is at the bottom right. Print the sorted m3 array.__\n"
   ]
  },
  {
   "cell_type": "code",
   "execution_count": 56,
   "metadata": {},
   "outputs": [
    {
     "name": "stdout",
     "output_type": "stream",
     "text": [
      "[[ 402.22  437.89  437.89  454.56]\n",
      " [ 482.33  489.89  697.33  748.11]]\n"
     ]
    }
   ],
   "source": [
    "m3 = np.sort(m3.ravel()).reshape(2,4)\n",
    "print(m3)"
   ]
  },
  {
   "cell_type": "markdown",
   "metadata": {},
   "source": [
    "## NumPy and Masks\n",
    "__2a) create an array called 'f' where the values are sin(x) for x from 0 to pi with 100 values in f__\n",
    "* print f\n",
    "* use a 'mask' and print an array that is True when f >= 1/2 and False when f < 1/2\n",
    "* create and print an array sequence that has only those values where f>= 1/2\n",
    "\n"
   ]
  },
  {
   "cell_type": "code",
   "execution_count": 87,
   "metadata": {
    "scrolled": true
   },
   "outputs": [
    {
     "name": "stdout",
     "output_type": "stream",
     "text": [
      "[False False  True  True  True  True  True  True False False]\n",
      "[ 0.64278761  0.8660254   0.98480775  0.98480775  0.8660254   0.64278761]\n"
     ]
    }
   ],
   "source": [
    "f = np.sin(np.linspace(0,np.pi,10))\n",
    "print(f>=.5)\n",
    "print(f[f>=.5])"
   ]
  },
  {
   "cell_type": "markdown",
   "metadata": {
    "collapsed": true
   },
   "source": [
    "## NumPy and 2 Variable Prediction"
   ]
  },
  {
   "cell_type": "markdown",
   "metadata": {},
   "source": [
    "__ Let 'x' be the number of miles a person drives per day and 'y' be the dollars spent on buying car fuel (per day).__\n",
    "  \n",
    "__We have created 2 numpy arrays each of size 100 that represent x and y.  \n",
    "x ( number of miles) ranges from 1 to 10 with a uniform noise of (0,1/2)  \n",
    "y (money spent in dollars) will be from 1 to 20 with a uniform noise (0,1)__ \n"
   ]
  },
  {
   "cell_type": "code",
   "execution_count": 90,
   "metadata": {},
   "outputs": [
    {
     "name": "stdout",
     "output_type": "stream",
     "text": [
      "x =  [  1.34683976   1.12176759   1.51512398   1.55233174   1.40619168\n",
      "   1.65075498   1.79399331   1.80243817   1.89844195   2.00100023\n",
      "   2.3344038    2.22424872   2.24914511   2.36268477   2.49808849\n",
      "   2.8212704    2.68452475   2.68229427   3.09511169   2.95703884\n",
      "   3.09047742   3.2544361    3.41541904   3.40886375   3.50672677\n",
      "   3.74960644   3.64861355   3.7721462    3.56368566   4.01092701\n",
      "   4.15630694   4.06088549   4.02517179   4.25169402   4.15897504\n",
      "   4.26835333   4.32520644   4.48563164   4.78490721   4.84614839\n",
      "   4.96698768   5.18754259   5.29582013   5.32097781   5.0674106\n",
      "   5.47601124   5.46852704   5.64537452   5.49642807   5.89755027\n",
      "   5.68548923   5.76276141   5.94613234   6.18135713   5.96522091\n",
      "   6.0275473    6.54290191   6.4991329    6.74003765   6.81809807\n",
      "   6.50611821   6.91538752   7.01250925   6.89905417   7.31314433\n",
      "   7.20472297   7.1043621    7.48199528   7.58957227   7.61744354\n",
      "   7.6991707    7.85436822   8.03510784   7.80787781   8.22410224\n",
      "   7.99366248   8.40581097   8.28913792   8.45971515   8.54227144\n",
      "   8.6906456    8.61856507   8.83489887   8.66309658   8.94837987\n",
      "   9.20890222   8.9614749    8.92608294   9.13231416   9.55889896\n",
      "   9.61488451   9.54252979   9.42015491   9.90952569  10.00659591\n",
      "  10.02504265  10.07330937   9.93489915  10.0892334   10.36509991]\n",
      "y=  [  1.6635012    2.0214592    2.10816052   2.26016496   1.96287558\n",
      "   2.9554635    3.02881887   3.33565296   2.75465779   3.4250107\n",
      "   3.39670148   3.39377767   3.78503343   4.38293049   4.32963586\n",
      "   4.03925039   4.73691868   4.30098399   4.8416329    4.78175957\n",
      "   4.99765787   5.31746817   5.76844671   5.93723749   5.72811642\n",
      "   6.70973615   6.68143367   6.57482731   7.17737603   7.54863252\n",
      "   7.30221419   7.3202573    7.78023884   7.91133365   8.2765417\n",
      "   8.69203281   8.78219865   8.45897546   8.89094715   8.81719921\n",
      "   8.87106971   9.66192562   9.4020625    9.85990783   9.60359778\n",
      "  10.07386266  10.6957995   10.66721916  11.18256285  10.57431836\n",
      "  11.46744716  10.94398916  11.26445259  12.09754828  12.11988037\n",
      "  12.121557    12.17613693  12.43750193  13.00912372  12.86407194\n",
      "  13.24640866  12.76120085  13.11723062  14.07841099  14.19821707\n",
      "  14.27289001  14.30624942  14.63060835  14.2770918   15.0744923\n",
      "  14.45261619  15.11897313  15.2378667   15.27203124  15.32491892\n",
      "  16.01095271  15.71250558  16.29488506  16.70618934  16.56555394\n",
      "  16.42379457  17.18144744  17.13813976  17.69613625  17.37763019\n",
      "  17.90942839  17.90343733  18.01951169  18.35727914  18.16841269\n",
      "  18.61813748  18.66062754  18.81217983  19.44995194  19.7213867\n",
      "  19.71966726  19.78961904  19.64385088  20.69719809  20.07974319]\n"
     ]
    }
   ],
   "source": [
    "# seed the random number generator with a fixed value\n",
    "import numpy as np\n",
    "np.random.seed(500)\n",
    "\n",
    "x=np.linspace(1,10,100)+ np.random.uniform(low=0,high=.5,size=100) \n",
    "y=np.linspace(1,20,100)+ np.random.uniform(low=0,high=1,size=100)\n",
    "print ('x = ',x)\n",
    "print ('y= ',y)"
   ]
  },
  {
   "cell_type": "markdown",
   "metadata": {},
   "source": [
    "__3a) Find Expected value of x and the expected value of y__"
   ]
  },
  {
   "cell_type": "code",
   "execution_count": 92,
   "metadata": {},
   "outputs": [
    {
     "name": "stdout",
     "output_type": "stream",
     "text": [
      "5.78253254159\n",
      "11.0129816833\n"
     ]
    }
   ],
   "source": [
    "print(np.mean(x))\n",
    "print(np.mean(y))"
   ]
  },
  {
   "cell_type": "markdown",
   "metadata": {},
   "source": [
    "__3b) Find variance of distributions of  x and  y__"
   ]
  },
  {
   "cell_type": "code",
   "execution_count": 100,
   "metadata": {
    "scrolled": true
   },
   "outputs": [
    {
     "name": "stdout",
     "output_type": "stream",
     "text": [
      "7.03332752948\n",
      "30.1139035755\n"
     ]
    }
   ],
   "source": [
    "print(np.var(x))\n",
    "print(np.var(y))"
   ]
  },
  {
   "cell_type": "markdown",
   "metadata": {},
   "source": [
    "__3c) Find co-variance of x and y.__"
   ]
  },
  {
   "cell_type": "code",
   "execution_count": 101,
   "metadata": {},
   "outputs": [
    {
     "name": "stdout",
     "output_type": "stream",
     "text": [
      "14.6577438328\n"
     ]
    }
   ],
   "source": [
    "print(np.cov(x,y)[0,1])"
   ]
  },
  {
   "cell_type": "markdown",
   "metadata": {},
   "source": [
    "__3d) Assuming that number of dollars spent in car fuel is only dependant on the miles driven, by  a linear relationship.  \n",
    "Write code that uses a linear predictor to calculate a predicted value of y for each x\n",
    "ie y_predicted = f(x) = y0+mx.__  "
   ]
  },
  {
   "cell_type": "code",
   "execution_count": 105,
   "metadata": {},
   "outputs": [
    {
     "name": "stdout",
     "output_type": "stream",
     "text": [
      "[  1.76881551   1.29975583   2.11952674   2.19706924   1.89250733\n",
      "   2.40218732   2.70070189   2.71830133   2.91837716   3.13211283\n",
      "   3.82693958   3.59737186   3.64925696   3.88587827   4.16806519\n",
      "   4.84158958   4.55660602   4.55195763   5.41228611   5.1245366\n",
      "   5.4026281    5.74432472   6.07981979   6.06615829   6.27010885\n",
      "   6.77628008   6.56580674   6.82325387   6.38881354   7.3208829\n",
      "   7.62386066   7.42499842   7.35056961   7.82265125   7.62942107\n",
      "   7.85736994   7.97585416   8.31018686   8.93388945   9.0615186\n",
      "   9.31335266   9.77299816   9.998653    10.05108265   9.52263814\n",
      "  10.37417868  10.3585813   10.72713873  10.41672819  11.25268336\n",
      "  10.81073943  10.97177784  11.35393039  11.84414852  11.39371175\n",
      "  11.52360252  12.59762273  12.50640631  13.00846171  13.17114283\n",
      "  12.52096398  13.37389806  13.57630372  13.33985868  14.2028396\n",
      "  13.97688504  13.76772884  14.55473193  14.7789268   14.83701167\n",
      "  15.00733442  15.33077245  15.70744125  15.23388452  16.10131336\n",
      "  15.6210674   16.48000181  16.23685037  16.59234034  16.76439104\n",
      "  17.07360891  16.92339011  17.37423864  17.01619561  17.61073773\n",
      "  18.15367702  17.63802831  17.56427     17.99406434  18.88308462\n",
      "  18.9997608   18.84897058  18.59393631  19.61380514  19.81610346\n",
      "  19.85454723  19.95513706  19.66668447  19.98832339  20.56324056]\n"
     ]
    }
   ],
   "source": [
    "y_0 = np.mean(y) - np.cov(x,y)[0,1]/np.var(x)*np.mean(x)\n",
    "m = np.cov(x,y)[0,1]/np.var(x)\n",
    "y_predicted = y_0 + m*x\n",
    "print(y_predicted)"
   ]
  },
  {
   "cell_type": "markdown",
   "metadata": {},
   "source": [
    "__3e) Predict y for each value in x, pur the error into an array called y_error__"
   ]
  },
  {
   "cell_type": "code",
   "execution_count": 107,
   "metadata": {},
   "outputs": [
    {
     "name": "stdout",
     "output_type": "stream",
     "text": [
      "[  1.76881551   1.29975583   2.11952674   2.19706924   1.89250733\n",
      "   2.40218732   2.70070189   2.71830133   2.91837716   3.13211283\n",
      "   3.82693958   3.59737186   3.64925696   3.88587827   4.16806519\n",
      "   4.84158958   4.55660602   4.55195763   5.41228611   5.1245366\n",
      "   5.4026281    5.74432472   6.07981979   6.06615829   6.27010885\n",
      "   6.77628008   6.56580674   6.82325387   6.38881354   7.3208829\n",
      "   7.62386066   7.42499842   7.35056961   7.82265125   7.62942107\n",
      "   7.85736994   7.97585416   8.31018686   8.93388945   9.0615186\n",
      "   9.31335266   9.77299816   9.998653    10.05108265   9.52263814\n",
      "  10.37417868  10.3585813   10.72713873  10.41672819  11.25268336\n",
      "  10.81073943  10.97177784  11.35393039  11.84414852  11.39371175\n",
      "  11.52360252  12.59762273  12.50640631  13.00846171  13.17114283\n",
      "  12.52096398  13.37389806  13.57630372  13.33985868  14.2028396\n",
      "  13.97688504  13.76772884  14.55473193  14.7789268   14.83701167\n",
      "  15.00733442  15.33077245  15.70744125  15.23388452  16.10131336\n",
      "  15.6210674   16.48000181  16.23685037  16.59234034  16.76439104\n",
      "  17.07360891  16.92339011  17.37423864  17.01619561  17.61073773\n",
      "  18.15367702  17.63802831  17.56427     17.99406434  18.88308462\n",
      "  18.9997608   18.84897058  18.59393631  19.61380514  19.81610346\n",
      "  19.85454723  19.95513706  19.66668447  19.98832339  20.56324056]\n"
     ]
    }
   ],
   "source": [
    "print(y_predicted)"
   ]
  },
  {
   "cell_type": "code",
   "execution_count": 109,
   "metadata": {},
   "outputs": [
    {
     "name": "stdout",
     "output_type": "stream",
     "text": [
      "[ -1.05314309e-01   7.21703366e-01  -1.13662110e-02   6.30957167e-02\n",
      "   7.03682516e-02   5.53276173e-01   3.28116980e-01   6.17351628e-01\n",
      "  -1.63719369e-01   2.92897867e-01  -4.30238098e-01  -2.03594191e-01\n",
      "   1.35776473e-01   4.97052216e-01   1.61570667e-01  -8.02339188e-01\n",
      "   1.80312658e-01  -2.50973643e-01  -5.70653214e-01  -3.42777034e-01\n",
      "  -4.04970232e-01  -4.26856544e-01  -3.11373081e-01  -1.28920801e-01\n",
      "  -5.41992427e-01  -6.65439261e-02   1.15626927e-01  -2.48426563e-01\n",
      "   7.88562495e-01   2.27749619e-01  -3.21646464e-01  -1.04741121e-01\n",
      "   4.29669229e-01   8.86824064e-02   6.47120628e-01   8.34662873e-01\n",
      "   8.06344483e-01   1.48788597e-01  -4.29423037e-02  -2.44319388e-01\n",
      "  -4.42282956e-01  -1.11072540e-01  -5.96590507e-01  -1.91174825e-01\n",
      "   8.09596391e-02  -3.00316025e-01   3.37218195e-01  -5.99195710e-02\n",
      "   7.65834652e-01  -6.78364995e-01   6.56707732e-01  -2.77886742e-02\n",
      "  -8.94778085e-02   2.53399759e-01   7.26168620e-01   5.97954474e-01\n",
      "  -4.21485798e-01  -6.89043727e-02   6.62014456e-04  -3.07070891e-01\n",
      "   7.25444679e-01  -6.12697206e-01  -4.59073099e-01   7.38552302e-01\n",
      "  -4.62253673e-03   2.96004972e-01   5.38520575e-01   7.58764193e-02\n",
      "  -5.01835004e-01   2.37480633e-01  -5.54718230e-01  -2.11799323e-01\n",
      "  -4.69574546e-01   3.81467141e-02  -7.76394438e-01   3.89885301e-01\n",
      "  -7.67496225e-01   5.80346879e-02   1.13849001e-01  -1.98837099e-01\n",
      "  -6.49814339e-01   2.58057329e-01  -2.36098875e-01   6.79940645e-01\n",
      "  -2.33107534e-01  -2.44248626e-01   2.65409018e-01   4.55241691e-01\n",
      "   3.63214807e-01  -7.14671927e-01  -3.81623320e-01  -1.88343033e-01\n",
      "   2.18243517e-01  -1.63853198e-01  -9.47167582e-02  -1.34879969e-01\n",
      "  -1.65518016e-01  -2.28335961e-02   7.08874698e-01  -4.83497362e-01]\n"
     ]
    }
   ],
   "source": [
    "error = y - y_predicted\n",
    "print(error)"
   ]
  },
  {
   "cell_type": "markdown",
   "metadata": {},
   "source": [
    "__3f) Write code that calculates the root mean square error(RMSE), that is root of average of y-error squared__"
   ]
  },
  {
   "cell_type": "code",
   "execution_count": 113,
   "metadata": {},
   "outputs": [
    {
     "name": "stdout",
     "output_type": "stream",
     "text": [
      "0.421318661997\n"
     ]
    }
   ],
   "source": [
    "RMSE = np.sqrt(np.mean(error**2))\n",
    "print(RMSE)"
   ]
  }
 ],
 "metadata": {
  "anaconda-cloud": {},
  "kernelspec": {
   "display_name": "Python 3",
   "language": "python",
   "name": "python3"
  },
  "language_info": {
   "codemirror_mode": {
    "name": "ipython",
    "version": 3
   },
   "file_extension": ".py",
   "mimetype": "text/x-python",
   "name": "python",
   "nbconvert_exporter": "python",
   "pygments_lexer": "ipython3",
   "version": "3.6.1"
  }
 },
 "nbformat": 4,
 "nbformat_minor": 1
}
