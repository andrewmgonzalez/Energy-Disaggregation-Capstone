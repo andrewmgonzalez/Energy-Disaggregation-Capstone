{
 "cells": [
  {
   "cell_type": "code",
   "execution_count": 10,
   "metadata": {},
   "outputs": [
    {
     "name": "stdout",
     "output_type": "stream",
     "text": [
      "done\n"
     ]
    }
   ],
   "source": [
    "# import both main files for house 1 and combine them into 1 dataframe\n",
    "\n",
    "import numpy as np\n",
    "import pandas as pd\n",
    "\n",
    "main1 = open('low_freq/house_1/channel_1.dat')\n",
    "main2 = open('low_freq/house_1/channel_2.dat')\n",
    "channel1 = list()\n",
    "channel2 = list()\n",
    "for line in main1:\n",
    "    channel1.append(line.split())\n",
    "for line in main2:\n",
    "    channel2.append(line.split())\n",
    "df1 = pd.DataFrame(channel1)\n",
    "df1.set_index(0, drop=True, inplace=True)\n",
    "df2 = pd.DataFrame(channel2)\n",
    "df2.set_index(0, drop=True, inplace=True)\n",
    "df_main = df1.merge(df2, how='inner', left_index=True, right_index=True)\n",
    "df_main.columns = ['main1', 'main2']\n",
    "\n",
    "# import the rest of the channels for house 1 (ie refrigerator, oven, etc) and\n",
    "# combine into 1 dataframe to later merge with the main data frame\n",
    "\n",
    "file = open('low_freq/house_1/channel_3.dat')\n",
    "channel = list()\n",
    "for line in file:\n",
    "    channel.append(line.split())\n",
    "df_channel = pd.DataFrame(channel)\n",
    "df_channel.set_index(0, drop=True, inplace=True)\n",
    "\n",
    "channel_no = 20 #3-20\n",
    "for i in range(4, channel_no+1):\n",
    "    file = open('low_freq/house_1/channel_' + str(i) + '.dat')\n",
    "    channel = list()\n",
    "    for line in file:\n",
    "        channel.append(line.split())\n",
    "    temp = pd.DataFrame(channel)\n",
    "    temp.set_index(0, drop=True, inplace=True)\n",
    "    df_channel = df_channel.merge(temp, how='left', right_index=True, left_index=True)\n",
    "\n",
    "df_channel.columns = ['oven1','oven2','refrigerator','dishwasher','kitchen_outlets1','kitchen_outlets2',\n",
    "                      'lighting1','washer_dryer1','microwave','bathroom_gfi','electric_heat','stove',\n",
    "                      'kitchen_outlets3','kitchen_outlets4','lighting2','lighting3','washer_dryer2','washer_dryer3']\n",
    "\n",
    "# merge both main and channel dataframes and re-order columns\n",
    "\n",
    "df_merged = df_channel.merge(df_main, how='left', right_index=True, left_index=True)\n",
    "ordered = ['main1', 'main2', 'oven1','oven2','refrigerator','dishwasher','kitchen_outlets1','kitchen_outlets2',\n",
    "                      'lighting1','washer_dryer1','microwave','bathroom_gfi','electric_heat','stove',\n",
    "                      'kitchen_outlets3','kitchen_outlets4','lighting2','lighting3','washer_dryer2','washer_dryer3']\n",
    "df_merged = df_merged[ordered]\n",
    "\n",
    "# change all numbers to floating point then drop nan\n",
    "df_merged = df_merged.apply(lambda x: pd.to_numeric(x), axis=0)\n",
    "df_merged.dtypes\n",
    "\n",
    "df_dropNAN = df_merged.copy().dropna(axis = 0, how='any')\n",
    "print('done')"
   ]
  },
  {
   "cell_type": "code",
   "execution_count": 61,
   "metadata": {
    "collapsed": true
   },
   "outputs": [],
   "source": [
    "#convert all channel values to binary\n",
    "channels = ['oven1','oven2','refrigerator','dishwasher','kitchen_outlets1','kitchen_outlets2',\n",
    "                      'lighting1','washer_dryer1','microwave','bathroom_gfi','electric_heat','stove',\n",
    "                      'kitchen_outlets3','kitchen_outlets4','lighting2','lighting3','washer_dryer2','washer_dryer3']\n",
    "df_binary = df_dropNAN.copy()\n",
    "for i in channels:\n",
    "    df_binary[i] = (df_binary[i] > 0).astype(int)\n",
    "\n",
    "#have a non-binary copy of df_dropNAN\n",
    "df = df_dropNAN.copy()"
   ]
  },
  {
   "cell_type": "code",
   "execution_count": 65,
   "metadata": {},
   "outputs": [
    {
     "name": "stdout",
     "output_type": "stream",
     "text": [
      "Training accuracy:  0.88234812054\n",
      "Test accuracy:  0.881253257545\n"
     ]
    }
   ],
   "source": [
    "# Random forest classifier with binary dependent variables\n",
    "from sklearn.model_selection import train_test_split\n",
    "from sklearn.ensemble import RandomForestClassifier\n",
    "\n",
    "X = df_binary[['main1','main2']]\n",
    "Y = df_binary.copy().drop(['main1','main2'],axis=1)\n",
    "x_train, x_test, y_train, y_test = train_test_split(X, Y, test_size=0.25, random_state=100)\n",
    "rf = RandomForestClassifier(max_depth=10, random_state=100)\n",
    "rf.fit(x_train, y_train)\n",
    "rf.feature_importances_\n",
    "train_acc = rf.score(x_train,y_train)\n",
    "test_acc = rf.score(x_test,y_test)\n",
    "print('Training accuracy: ',train_acc)\n",
    "print('Test accuracy: ',test_acc)"
   ]
  },
  {
   "cell_type": "code",
   "execution_count": 58,
   "metadata": {},
   "outputs": [
    {
     "name": "stdout",
     "output_type": "stream",
     "text": [
      "Training accuracy:  0.957214690092\n",
      "Test accuracy:  0.93802660889\n"
     ]
    }
   ],
   "source": [
    "# Random forest regressor with non-binary dependent variables (original values)\n",
    "from sklearn.model_selection import train_test_split\n",
    "from sklearn.ensemble import RandomForestRegressor\n",
    "\n",
    "X = df[['main1','main2']]\n",
    "Y = df.copy().drop(['main1','main2'],axis=1)\n",
    "x_train, x_test, y_train, y_test = train_test_split(X, Y, test_size=0.25, random_state=100)\n",
    "rf = RandomForestRegressor(max_depth=10, random_state=100)\n",
    "rf.fit(x_train, y_train)\n",
    "rf.feature_importances_\n",
    "train_acc = rf.score(x_train,y_train)\n",
    "test_acc = rf.score(x_test,y_test)\n",
    "print('Training accuracy: ',train_acc)\n",
    "print('Test accuracy: ',test_acc)"
   ]
  },
  {
   "cell_type": "code",
   "execution_count": 62,
   "metadata": {},
   "outputs": [
    {
     "name": "stdout",
     "output_type": "stream",
     "text": [
      "Training accuracy:  0.890264570037\n",
      "Test accuracy:  0.887960112895\n"
     ]
    }
   ],
   "source": [
    "# Decision tree classifier with binary dependent variables\n",
    "from sklearn.model_selection import train_test_split\n",
    "from sklearn.tree import DecisionTreeClassifier\n",
    "\n",
    "X = df_binary[['main1','main2']]\n",
    "Y = df_binary.copy().drop(['main1','main2'],axis=1)\n",
    "x_train, x_test, y_train, y_test = train_test_split(X, Y, test_size=0.25, random_state=100)\n",
    "rf = DecisionTreeClassifier(max_depth=10, random_state=100)\n",
    "rf.fit(x_train, y_train)\n",
    "rf.feature_importances_\n",
    "train_acc = rf.score(x_train,y_train)\n",
    "test_acc = rf.score(x_test,y_test)\n",
    "print('Training accuracy: ',train_acc)\n",
    "print('Test accuracy: ',test_acc)"
   ]
  },
  {
   "cell_type": "code",
   "execution_count": 63,
   "metadata": {},
   "outputs": [
    {
     "name": "stdout",
     "output_type": "stream",
     "text": [
      "Training accuracy:  0.954449700245\n",
      "Test accuracy:  0.934059903421\n"
     ]
    }
   ],
   "source": [
    "# Decision tree regressor with non-binary dependent variables (original values)\n",
    "from sklearn.model_selection import train_test_split\n",
    "from sklearn.tree import DecisionTreeRegressor\n",
    "\n",
    "X = df[['main1','main2']]\n",
    "Y = df.copy().drop(['main1','main2'],axis=1)\n",
    "x_train, x_test, y_train, y_test = train_test_split(X, Y, test_size=0.25, random_state=100)\n",
    "rf = DecisionTreeRegressor(max_depth=10, random_state=100)\n",
    "rf.fit(x_train, y_train)\n",
    "rf.feature_importances_\n",
    "train_acc = rf.score(x_train,y_train)\n",
    "test_acc = rf.score(x_test,y_test)\n",
    "print('Training accuracy: ',train_acc)\n",
    "print('Test accuracy: ',test_acc)"
   ]
  },
  {
   "cell_type": "code",
   "execution_count": null,
   "metadata": {
    "collapsed": true
   },
   "outputs": [],
   "source": []
  },
  {
   "cell_type": "code",
   "execution_count": null,
   "metadata": {
    "collapsed": true
   },
   "outputs": [],
   "source": []
  },
  {
   "cell_type": "code",
   "execution_count": null,
   "metadata": {
    "collapsed": true
   },
   "outputs": [],
   "source": []
  },
  {
   "cell_type": "code",
   "execution_count": null,
   "metadata": {
    "collapsed": true
   },
   "outputs": [],
   "source": []
  },
  {
   "cell_type": "code",
   "execution_count": null,
   "metadata": {
    "collapsed": true
   },
   "outputs": [],
   "source": []
  },
  {
   "cell_type": "code",
   "execution_count": null,
   "metadata": {
    "collapsed": true
   },
   "outputs": [],
   "source": []
  },
  {
   "cell_type": "code",
   "execution_count": null,
   "metadata": {
    "collapsed": true
   },
   "outputs": [],
   "source": []
  },
  {
   "cell_type": "code",
   "execution_count": null,
   "metadata": {
    "collapsed": true
   },
   "outputs": [],
   "source": []
  },
  {
   "cell_type": "code",
   "execution_count": null,
   "metadata": {
    "collapsed": true
   },
   "outputs": [],
   "source": []
  },
  {
   "cell_type": "code",
   "execution_count": null,
   "metadata": {
    "collapsed": true
   },
   "outputs": [],
   "source": []
  },
  {
   "cell_type": "code",
   "execution_count": null,
   "metadata": {
    "collapsed": true
   },
   "outputs": [],
   "source": []
  },
  {
   "cell_type": "code",
   "execution_count": null,
   "metadata": {
    "collapsed": true
   },
   "outputs": [],
   "source": []
  },
  {
   "cell_type": "code",
   "execution_count": null,
   "metadata": {
    "collapsed": true
   },
   "outputs": [],
   "source": []
  },
  {
   "cell_type": "code",
   "execution_count": null,
   "metadata": {
    "collapsed": true
   },
   "outputs": [],
   "source": []
  },
  {
   "cell_type": "code",
   "execution_count": null,
   "metadata": {
    "collapsed": true
   },
   "outputs": [],
   "source": []
  }
 ],
 "metadata": {
  "kernelspec": {
   "display_name": "Python 3",
   "language": "python",
   "name": "python3"
  },
  "language_info": {
   "codemirror_mode": {
    "name": "ipython",
    "version": 3
   },
   "file_extension": ".py",
   "mimetype": "text/x-python",
   "name": "python",
   "nbconvert_exporter": "python",
   "pygments_lexer": "ipython3",
   "version": "3.6.1"
  }
 },
 "nbformat": 4,
 "nbformat_minor": 2
}
